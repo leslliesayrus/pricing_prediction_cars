{
 "cells": [
  {
   "cell_type": "code",
   "execution_count": 2,
   "id": "1f652b09",
   "metadata": {},
   "outputs": [],
   "source": [
    "import pandas as pd\n",
    "import numpy as np\n",
    "from sklearn.model_selection import train_test_split\n",
    "from sklearn.preprocessing import LabelEncoder"
   ]
  },
  {
   "cell_type": "code",
   "execution_count": 11,
   "id": "86f28b0a",
   "metadata": {},
   "outputs": [],
   "source": [
    "df = pd.read_csv('Car_Prices_Poland_Kaggle.csv')"
   ]
  },
  {
   "cell_type": "code",
   "execution_count": 12,
   "id": "65cd5561",
   "metadata": {},
   "outputs": [],
   "source": [
    "data = df.copy()"
   ]
  },
  {
   "cell_type": "code",
   "execution_count": 13,
   "id": "3ee5efcb",
   "metadata": {},
   "outputs": [],
   "source": [
    "data.drop('Unnamed: 0', axis = 1, inplace = True)"
   ]
  },
  {
   "cell_type": "code",
   "execution_count": 17,
   "id": "c9c1d38b",
   "metadata": {},
   "outputs": [],
   "source": [
    "# Label Encoding \n",
    "encoder = LabelEncoder()\n",
    "data['mark'] = encoder.fit_transform(data['mark'])\n",
    "data['model'] = encoder.fit_transform(data['model'])\n",
    "data['generation_name'] = encoder.fit_transform(data['generation_name'])\n",
    "data['province'] = encoder.fit_transform(data['province'])\n",
    "data['fuel'] = encoder.fit_transform(data['fuel'])\n",
    "data['city'] = encoder.fit_transform(data['city'])"
   ]
  },
  {
   "cell_type": "code",
   "execution_count": 19,
   "id": "51aa65f9",
   "metadata": {},
   "outputs": [],
   "source": [
    "# Removing the outliers\n",
    "data = data[data['price'].between(data['price'].quantile(.15), data['price'].quantile(.85))] "
   ]
  },
  {
   "cell_type": "code",
   "execution_count": 22,
   "id": "b4eae0fb",
   "metadata": {},
   "outputs": [],
   "source": [
    "from boruta import BorutaPy\n",
    "from sklearn.ensemble import RandomForestRegressor\n",
    "import math"
   ]
  },
  {
   "cell_type": "code",
   "execution_count": 24,
   "id": "336dc1f9",
   "metadata": {},
   "outputs": [
    {
     "name": "stdout",
     "output_type": "stream",
     "text": [
      "Iteration: \t1 / 100\n",
      "Confirmed: \t0\n",
      "Tentative: \t9\n",
      "Rejected: \t0\n",
      "Iteration: \t2 / 100\n",
      "Confirmed: \t0\n",
      "Tentative: \t9\n",
      "Rejected: \t0\n",
      "Iteration: \t3 / 100\n",
      "Confirmed: \t0\n",
      "Tentative: \t9\n",
      "Rejected: \t0\n",
      "Iteration: \t4 / 100\n",
      "Confirmed: \t0\n",
      "Tentative: \t9\n",
      "Rejected: \t0\n",
      "Iteration: \t5 / 100\n",
      "Confirmed: \t0\n",
      "Tentative: \t9\n",
      "Rejected: \t0\n",
      "Iteration: \t6 / 100\n",
      "Confirmed: \t0\n",
      "Tentative: \t9\n",
      "Rejected: \t0\n",
      "Iteration: \t7 / 100\n",
      "Confirmed: \t0\n",
      "Tentative: \t9\n",
      "Rejected: \t0\n",
      "Iteration: \t8 / 100\n",
      "Confirmed: \t7\n",
      "Tentative: \t0\n",
      "Rejected: \t2\n",
      "\n",
      "\n",
      "BorutaPy finished running.\n",
      "\n",
      "Iteration: \t9 / 100\n",
      "Confirmed: \t7\n",
      "Tentative: \t0\n",
      "Rejected: \t2\n"
     ]
    }
   ],
   "source": [
    "# Feature Selection with boruta\n",
    "rf = RandomForestRegressor( n_jobs=-1 )\n",
    "boruta = BorutaPy( rf, n_estimators='auto', verbose=2, random_state=42 ).fit(data.iloc[:,0:9].values, data.iloc[:,9])"
   ]
  },
  {
   "cell_type": "code",
   "execution_count": 27,
   "id": "4b89381a",
   "metadata": {},
   "outputs": [],
   "source": [
    "# columns selected by boruta\n",
    "columns_selected = boruta.support_.tolist()"
   ]
  },
  {
   "cell_type": "code",
   "execution_count": 26,
   "id": "23273602",
   "metadata": {},
   "outputs": [],
   "source": [
    "x = data.drop('price', axis = 1)"
   ]
  },
  {
   "cell_type": "code",
   "execution_count": 30,
   "id": "e8f754a6",
   "metadata": {},
   "outputs": [],
   "source": [
    "cols_selected_boruta = x.iloc[:, columns_selected].columns.to_list()"
   ]
  },
  {
   "cell_type": "code",
   "execution_count": 31,
   "id": "24a67f39",
   "metadata": {},
   "outputs": [
    {
     "data": {
      "text/plain": [
       "['mark', 'model', 'generation_name', 'year', 'mileage', 'vol_engine', 'city']"
      ]
     },
     "execution_count": 31,
     "metadata": {},
     "output_type": "execute_result"
    }
   ],
   "source": [
    "# Columns selected by boruta\n",
    "cols_selected_boruta"
   ]
  },
  {
   "cell_type": "code",
   "execution_count": 35,
   "id": "fa16f068",
   "metadata": {},
   "outputs": [
    {
     "data": {
      "text/plain": [
       "['fuel', 'province']"
      ]
     },
     "execution_count": 35,
     "metadata": {},
     "output_type": "execute_result"
    }
   ],
   "source": [
    "# Not selected by boruta\n",
    "cols_not_selected_boruta = list( np.setdiff1d( x.columns, cols_selected_boruta) )\n",
    "cols_not_selected_boruta"
   ]
  },
  {
   "cell_type": "code",
   "execution_count": 36,
   "id": "bc3ddc59",
   "metadata": {},
   "outputs": [],
   "source": [
    "x = data.drop(['province', 'fuel'], axis =1)"
   ]
  },
  {
   "cell_type": "code",
   "execution_count": 41,
   "id": "599cc966",
   "metadata": {},
   "outputs": [],
   "source": [
    "# defining the variables independent and target\n",
    "x_to_train = x.iloc[:,:-1].values\n",
    "y = x['price'].values"
   ]
  },
  {
   "cell_type": "code",
   "execution_count": 44,
   "id": "28b89a55",
   "metadata": {},
   "outputs": [],
   "source": [
    "from sklearn.linear_model import LinearRegression"
   ]
  },
  {
   "cell_type": "code",
   "execution_count": 48,
   "id": "45dc4417",
   "metadata": {},
   "outputs": [],
   "source": [
    "# Dividing data in train and test\n",
    "x_train, x_test, y_train, y_test = train_test_split(x_to_train, y, test_size = 0.2, random_state = 42)"
   ]
  },
  {
   "cell_type": "code",
   "execution_count": 49,
   "id": "867c8ca1",
   "metadata": {},
   "outputs": [
    {
     "data": {
      "text/plain": [
       "LinearRegression()"
      ]
     },
     "execution_count": 49,
     "metadata": {},
     "output_type": "execute_result"
    }
   ],
   "source": [
    "# Linear model regression \n",
    "model = LinearRegression()\n",
    "model.fit(x_train, y_train)"
   ]
  },
  {
   "cell_type": "code",
   "execution_count": 53,
   "id": "acdefc8a",
   "metadata": {},
   "outputs": [
    {
     "data": {
      "text/plain": [
       "0.6769630255967438"
      ]
     },
     "execution_count": 53,
     "metadata": {},
     "output_type": "execute_result"
    }
   ],
   "source": [
    "# score in train data\n",
    "model.score(x_train, y_train)"
   ]
  },
  {
   "cell_type": "code",
   "execution_count": 54,
   "id": "8f3232c2",
   "metadata": {},
   "outputs": [
    {
     "data": {
      "text/plain": [
       "0.6622876624591485"
      ]
     },
     "execution_count": 54,
     "metadata": {},
     "output_type": "execute_result"
    }
   ],
   "source": [
    "# score in test data\n",
    "model.score(x_test, y_test)"
   ]
  },
  {
   "cell_type": "code",
   "execution_count": null,
   "id": "159c8d7e",
   "metadata": {},
   "outputs": [],
   "source": [
    "# Linear regression score: 67% in train and 66 in test\n",
    "# Underfiting : the model is so simple, let's try a model more complex than it"
   ]
  },
  {
   "cell_type": "code",
   "execution_count": 55,
   "id": "0522d0b3",
   "metadata": {},
   "outputs": [],
   "source": [
    "from sklearn.ensemble import RandomForestRegressor"
   ]
  },
  {
   "cell_type": "code",
   "execution_count": 56,
   "id": "bb3676c7",
   "metadata": {},
   "outputs": [
    {
     "data": {
      "text/plain": [
       "RandomForestRegressor()"
      ]
     },
     "execution_count": 56,
     "metadata": {},
     "output_type": "execute_result"
    }
   ],
   "source": [
    "# creating the Random Forest Regressor model\n",
    "forest = RandomForestRegressor()\n",
    "forest.fit(x_train, y_train)"
   ]
  },
  {
   "cell_type": "code",
   "execution_count": 57,
   "id": "d36d823e",
   "metadata": {},
   "outputs": [
    {
     "data": {
      "text/plain": [
       "0.9865842662047755"
      ]
     },
     "execution_count": 57,
     "metadata": {},
     "output_type": "execute_result"
    }
   ],
   "source": [
    "# Score in train data\n",
    "forest.score(x_train, y_train)"
   ]
  },
  {
   "cell_type": "code",
   "execution_count": 60,
   "id": "25828f3b",
   "metadata": {},
   "outputs": [
    {
     "data": {
      "text/plain": [
       "0.9148083372031881"
      ]
     },
     "execution_count": 60,
     "metadata": {},
     "output_type": "execute_result"
    }
   ],
   "source": [
    "# Score in test data\n",
    "forest.score(x_test, y_test)"
   ]
  },
  {
   "cell_type": "code",
   "execution_count": 74,
   "id": "7f57caf3",
   "metadata": {},
   "outputs": [],
   "source": [
    "from sklearn.metrics import mean_absolute_error"
   ]
  },
  {
   "cell_type": "code",
   "execution_count": 70,
   "id": "1db9b5da",
   "metadata": {},
   "outputs": [],
   "source": [
    "# Predictions of both models\n",
    "linear_pred = model.predict(x_test)\n",
    "forest_pred = forest.predict(x_test)"
   ]
  },
  {
   "cell_type": "code",
   "execution_count": 75,
   "id": "765f802d",
   "metadata": {},
   "outputs": [],
   "source": [
    "metric_linear = mean_absolute_error(linear_pred, y_test)\n",
    "metric_forest = mean_absolute_error(forest_pred, y_test)"
   ]
  },
  {
   "cell_type": "code",
   "execution_count": 76,
   "id": "f4d10844",
   "metadata": {},
   "outputs": [
    {
     "data": {
      "text/plain": [
       "11611.949570856417"
      ]
     },
     "execution_count": 76,
     "metadata": {},
     "output_type": "execute_result"
    }
   ],
   "source": [
    "# comparing the both models with Mean Absolute Error\n",
    "metric_linear"
   ]
  },
  {
   "cell_type": "code",
   "execution_count": 77,
   "id": "3efa1df0",
   "metadata": {},
   "outputs": [
    {
     "data": {
      "text/plain": [
       "5325.390451739751"
      ]
     },
     "execution_count": 77,
     "metadata": {},
     "output_type": "execute_result"
    }
   ],
   "source": [
    "metric_forest"
   ]
  },
  {
   "cell_type": "code",
   "execution_count": null,
   "id": "573c10c0",
   "metadata": {},
   "outputs": [],
   "source": []
  }
 ],
 "metadata": {
  "kernelspec": {
   "display_name": "Python 3 (ipykernel)",
   "language": "python",
   "name": "python3"
  },
  "language_info": {
   "codemirror_mode": {
    "name": "ipython",
    "version": 3
   },
   "file_extension": ".py",
   "mimetype": "text/x-python",
   "name": "python",
   "nbconvert_exporter": "python",
   "pygments_lexer": "ipython3",
   "version": "3.9.7"
  }
 },
 "nbformat": 4,
 "nbformat_minor": 5
}
